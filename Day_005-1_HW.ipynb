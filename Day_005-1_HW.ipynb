{
 "cells": [
  {
   "cell_type": "markdown",
   "metadata": {},
   "source": [
    "# [作業目標]\n",
    "- 利用範例的創建方式, 創建一組資料, 並練習如何取出最大值"
   ]
  },
  {
   "cell_type": "markdown",
   "metadata": {},
   "source": [
    "# [作業重點]\n",
    "- 練習創立 DataFrame (In[2])\n",
    "- 如何取出口數最多的國家 (In[3], Out[3])"
   ]
  },
  {
   "cell_type": "markdown",
   "metadata": {},
   "source": [
    "## 練習時間\n",
    "在小量的資料上，我們用眼睛就可以看得出來程式碼是否有跑出我們理想中的結果\n",
    "\n",
    "請嘗試想像一個你需要的資料結構 (裡面的值可以是隨機的)，然後用上述的方法把它變成 pandas DataFrame\n",
    "\n",
    "#### Ex: 想像一個 dataframe 有兩個欄位，一個是國家，一個是人口，求人口數最多的國家\n",
    "\n",
    "### Hints: [隨機產生數值](https://blog.csdn.net/christianashannon/article/details/78867204)"
   ]
  },
  {
   "cell_type": "code",
   "execution_count": 1,
   "metadata": {
    "collapsed": true
   },
   "outputs": [],
   "source": [
    "import pandas as pd\n",
    "import numpy as np"
   ]
  },
  {
   "cell_type": "code",
   "execution_count": 2,
   "metadata": {
    "collapsed": false
   },
   "outputs": [
    {
     "data": {
      "text/plain": [
       "\"\\ndata = {'國家': ,\\n        '人口': }\\ndata = pd.DataFrame()\\n\""
      ]
     },
     "execution_count": 2,
     "metadata": {},
     "output_type": "execute_result"
    }
   ],
   "source": [
    "\"\"\"\n",
    "data = {'國家': ,\n",
    "        '人口': }\n",
    "data = pd.DataFrame()\n",
    "\"\"\""
   ]
  },
  {
   "cell_type": "code",
   "execution_count": 10,
   "metadata": {
    "collapsed": false
   },
   "outputs": [
    {
     "name": "stdout",
     "output_type": "stream",
     "text": [
      "   country  people\n",
      "0   Taiwan      53\n",
      "1   Janpan      27\n",
      "2    Korea     498\n",
      "3  America     478\n",
      "<class 'numpy.int32'>\n"
     ]
    }
   ],
   "source": [
    "# 方法2\n",
    "country_name = ['Taiwan', 'Janpan', 'Korea', 'America']\n",
    "# 打成一維\n",
    "people_count = np.random.randint(500, size=(1, 4)).flatten()\n",
    "list_labels2 = ['country', 'people']\n",
    "list_cols2 = [country_name, people_count]\n",
    "zipped2 = list(zip(list_labels2, list_cols2))\n",
    "data = pd.DataFrame(dict(zipped2))\n",
    "print(data)\n",
    "\n",
    "# 找出人口最多國家\n",
    "#visitors_3.sum(axis=1).order(ascending=False).head(1)\n",
    "#visitors_3.groupby('conutry').apply(lambda t: t[t.people==t.people.max()])\n",
    "#visitors_3[['country', 'people']].groupby(by='people', as_index=False).max()\n",
    "data[data['people']==data['people'].max()]"
   ]
  },
  {
   "cell_type": "code",
   "execution_count": null,
   "metadata": {
    "collapsed": true
   },
   "outputs": [],
   "source": []
  }
 ],
 "metadata": {
  "kernelspec": {
   "display_name": "Python 3",
   "language": "python",
   "name": "python3"
  },
  "language_info": {
   "codemirror_mode": {
    "name": "ipython",
    "version": 3
   },
   "file_extension": ".py",
   "mimetype": "text/x-python",
   "name": "python",
   "nbconvert_exporter": "python",
   "pygments_lexer": "ipython3",
   "version": "3.6.6"
  }
 },
 "nbformat": 4,
 "nbformat_minor": 2
}

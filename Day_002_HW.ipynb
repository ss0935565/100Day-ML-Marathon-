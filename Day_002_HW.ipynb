{
 "cells": [
  {
   "cell_type": "markdown",
   "metadata": {},
   "source": [
    "## [作業目標]\n",
    "了解機器學習適合應用的領域與範疇。"
   ]
  },
  {
   "cell_type": "markdown",
   "metadata": {},
   "source": [
    "## [作業重點]\n",
    "透過瞭解機器學習的運作方式，找出非常適用機器學習應用的領域及其原因"
   ]
  },
  {
   "cell_type": "markdown",
   "metadata": {},
   "source": [
    "## 作業\n",
    "請找出一個你認為機器學習可以發光發熱的領域並闡述原因? \n",
    "\n",
    "1.\n",
    "領域：智慧農業\n",
    "根據農委會資料指出臺灣在農業上因蟲害每年造成的經濟損失高達四十億元，因臺灣本身的位置、氣候等因素，會吸引不同種類的害蟲侵襲，\n",
    "然而農民在害蟲認定上大多是親臨田間以肉眼觀察及經驗方式辨識害蟲種類。此舉導致農民普遍錯誤辨認害蟲，而使用了錯誤的誘殺資材，造\n",
    "成防治效果不佳及資材浪費，無法即早進行防治工作。基於上述之問題，小弟我認為智慧農業為解決現今蟲害課題的重要方法之一，主要目的\n",
    "在於降低肉眼辨識上困難並控制病蟲危害，進而協助農民建構當地害蟲資料庫以減少下一代害蟲的數量達到害蟲防治的效果。\n"
   ]
  },
  {
   "cell_type": "code",
   "execution_count": null,
   "metadata": {
    "collapsed": true
   },
   "outputs": [],
   "source": [
    "   "
   ]
  }
 ],
 "metadata": {
  "kernelspec": {
   "display_name": "Python 3",
   "language": "python",
   "name": "python3"
  },
  "language_info": {
   "codemirror_mode": {
    "name": "ipython",
    "version": 3
   },
   "file_extension": ".py",
   "mimetype": "text/x-python",
   "name": "python",
   "nbconvert_exporter": "python",
   "pygments_lexer": "ipython3",
   "version": "3.6.6"
  }
 },
 "nbformat": 4,
 "nbformat_minor": 2
}

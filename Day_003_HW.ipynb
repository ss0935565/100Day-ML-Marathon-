{
 "cells": [
  {
   "cell_type": "markdown",
   "metadata": {},
   "source": [
    "## [作業目標]\n",
    "持續接觸有關機器學習的相關專案與最新技術"
   ]
  },
  {
   "cell_type": "markdown",
   "metadata": {},
   "source": [
    "## [作業重點]\n",
    "透過觀察頂尖公司的機器學習文章，來了解各公司是怎麼應用機器學習在實際的專案上"
   ]
  },
  {
   "cell_type": "markdown",
   "metadata": {},
   "source": [
    "## [作業]\n",
    "今天的作業希望大家能夠看看全球機器學習巨頭們在做的機器學習專案。以 google 為例，下圖是 Google 內部專案使用機器學習的數量，隨著時間進展，現在早已超過 2000 個專案在使用機器學習。"
   ]
  },
  {
   "cell_type": "markdown",
   "metadata": {},
   "source": [
    "![image](https://cdn-images-1.medium.com/max/800/1*U_L8qI8RmYS-MOBrYvXhSA.png)"
   ]
  },
  {
   "cell_type": "markdown",
   "metadata": {},
   "source": [
    "底下幫同學整理幾間知名企業的 blog 或機器學習網站 (自行搜尋也可)，這些網站都會整理最新的機器學習專案或者是技術文章，請挑選一篇文章閱讀並試著回答\n",
    "1. 專案的目標？ (要解決什麼問題）\n",
    "2. 使用的技術是？ (只需知道名稱即可，例如：使用 CNN 卷積神經網路做影像分類)\n",
    "3. 資料來源？ "
   ]
  },
  {
   "cell_type": "markdown",
   "metadata": {},
   "source": [
    "- [Google AI blog](https://ai.googleblog.com/)\n",
    "- [Facebook Research blog](https://research.fb.com/blog/)\n",
    "- [Apple machine learning journal](https://machinelearning.apple.com/)\n",
    "- [機器之心](https://www.jiqizhixin.com/)\n",
    "- [雷鋒網](http://www.leiphone.com/category/ai)\n",
    "\n",
    "1.\n",
    "主題：On-Device, Real-Time Hand Tracking with MediaPipe  \n",
    "來源：https://ai.googleblog.com/  \n",
    "摘要：  \n",
    "Building an application that processes perceptual inputs involves more than running an ML model.  \n",
    "Developers have to harness the capabilities of a wide range of devices; balance resource usage and   \n",
    "quality of results; run multiple operations in parallel and with pipelining; and ensure that time-  \n",
    "series data is properly synchronized. The MediaPipe framework addresses these challenges. A developer   \n",
    "can use MediaPipe to easily and rapidly combine existing and new perception components into prototypes  \n",
    "and advance them to polished cross-platform applications. The developer can configure an application  \n",
    "built with MediaPipe to manage resources efficiently (both CPU and GPU) for low latency performance,  \n",
    "to handle synchronization of time-series data such as audio and video frames and to measure performance   \n",
    "and resource consumption. We show that these features enable a developer to focus on the algorithm or   \n",
    "model development, and use MediaPipe as an environment for iteratively improving their application,   \n",
    "with results reproducible across different devices and platforms. \n",
    "\n",
    "2.\n",
    "專案目標：  \n",
    "主要大目標以MediaPipe框架實現跨平台程序應用，據資料指出其框架能有效管控CPU & GPU資源已實施低延遲性能。  \n",
    "手部跟踪和手勢識別這項專案的目標為擴大可檢測的手勢數量(如同時捕捉多隻手)，並支持動態手勢追蹤。開發團隊指  \n",
    "出這項技術可以促使研究和開發者社區的成員對新的創意和應用產生更多有趣互動。  \n",
    "\n",
    "3.\n",
    "*使用技術：  \n",
    "-掌上探測器模型（BlazePalm），對整個圖像進行操作並返回定向手邊界框。   \n",
    "-手部標誌模型，其在由手掌檢測器定義的裁剪圖像區域上操作並返回高保真3D手部關鍵點，從視頻幀計算手的21個3D關鍵點。深度以灰度顯示。   \n",
    "-手勢識別器，它將先前計算的關鍵點配置分類為一組離散的手勢。  \n",
    "  \n",
    "BlazePalm為Google所開發之手勢模型，用來分析整幀影像、框出手掌範圍，因此就算握拳也不影響辨識，而手部標誌模型會評估BlazePalm  \n",
    "所剪裁的影像區域，產生高度逼真的3D手部關鍵點，最後，再由手勢辨識器依據關鍵點的分布，來分類手勢。  \n",
    "通過上述技術，開發團隊在手掌檢測中實現了95.7％的平均精度。使用規則的交叉熵損失並且沒有解碼器給出僅86.22％的基線。  \n",
    "\n",
    "4.\n",
    "資料來源：  \n",
    "[1] https://ai.googleblog.com/2019/08/on-device-real-time-hand-tracking-with.html  \n",
    "[2] https://ai.google/research/pubs/pub48292  \n",
    "[3] https://www.ithome.com.tw/news/132619  "
   ]
  },
  {
   "cell_type": "code",
   "execution_count": null,
   "metadata": {
    "collapsed": true
   },
   "outputs": [],
   "source": []
  },
  {
   "cell_type": "code",
   "execution_count": null,
   "metadata": {
    "collapsed": true
   },
   "outputs": [],
   "source": []
  }
 ],
 "metadata": {
  "kernelspec": {
   "display_name": "Python 3",
   "language": "python",
   "name": "python3"
  },
  "language_info": {
   "codemirror_mode": {
    "name": "ipython",
    "version": 3
   },
   "file_extension": ".py",
   "mimetype": "text/x-python",
   "name": "python",
   "nbconvert_exporter": "python",
   "pygments_lexer": "ipython3",
   "version": "3.6.6"
  }
 },
 "nbformat": 4,
 "nbformat_minor": 2
}
